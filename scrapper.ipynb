{
 "cells": [
  {
   "cell_type": "code",
   "execution_count": 1,
   "id": "40fa74f0-3418-44ef-9aed-9bbea9f23104",
   "metadata": {},
   "outputs": [],
   "source": [
    "from bs4 import BeautifulSoup\n",
    "import urllib.request\n",
    "from googlesearch import search\n",
    "import re"
   ]
  },
  {
   "cell_type": "code",
   "execution_count": null,
   "id": "77e0cdb0-835d-4b86-879b-a3e278bebeaf",
   "metadata": {},
   "outputs": [],
   "source": []
  },
  {
   "cell_type": "code",
   "execution_count": 2,
   "id": "8047d12c-d834-4ae1-a2a1-4c132a2b4c46",
   "metadata": {},
   "outputs": [],
   "source": [
    "def getHtml(url:str):\n",
    "    fhand = urllib.request.urlopen(url)\n",
    "    html_doc = \"\"\n",
    "    for line in fhand:\n",
    "        html_doc += line.decode().strip() + \"\\n\"\n",
    "    return BeautifulSoup(html_doc,\"html.parser\")"
   ]
  },
  {
   "cell_type": "code",
   "execution_count": 6,
   "id": "2d30da50-2506-4ba7-9e07-46ecd36bb169",
   "metadata": {},
   "outputs": [],
   "source": [
    "url = r\"https://www.espncricinfo.com\"\n",
    "html_doc = getHtml(url+\"/records\").find_all(class_=\"ds-relative\")[0]\n",
    "# print(html_doc)\n",
    "anchors = html_doc.find_all('a')\n",
    "# print(anchors)\n",
    "links = []\n",
    "linkList = []\n",
    "for i in anchors:\n",
    "    links.append(i.get(\"href\"))"
   ]
  },
  {
   "cell_type": "code",
   "execution_count": 47,
   "id": "8160914c-7018-44ab-8e04-01ccfd24a839",
   "metadata": {},
   "outputs": [
    {
     "name": "stdout",
     "output_type": "stream",
     "text": [
      "https://www.espncricinfo.com/records/year/2024-2024\n",
      "https://www.espncricinfo.com/records/trophy/world-cup-12\n",
      "https://www.espncricinfo.com/records/trophy/icc-men-s-t20-world-cup-89\n",
      "https://www.espncricinfo.com/records/trophy/indian-premier-league-117\n",
      "https://www.espncricinfo.com/records/trophy/big-bash-league-158\n"
     ]
    }
   ],
   "source": [
    "for i in links:\n",
    "    if (i!=None and i[0] == \"/\" and i.split('/')[1] == \"records\" and len(i.split('/'))>2):\n",
    "        link = url+i\n",
    "        print(link)\n",
    "        linkList.append(link)"
   ]
  },
  {
   "cell_type": "code",
   "execution_count": 48,
   "id": "eab026dd-09ef-4170-b422-a6778738c824",
   "metadata": {},
   "outputs": [
    {
     "name": "stdout",
     "output_type": "stream",
     "text": [
      "https://www.espncricinfo.com/records/year/team-match-results/2024-2024/test-matches-1\n",
      "https://www.espncricinfo.com/records/year/team-match-results/2024-2024/one-day-internationals-2\n",
      "https://www.espncricinfo.com/records/year/team-match-results/2024-2024/twenty20-internationals-3\n",
      "https://www.espncricinfo.com/records/year/team-match-results/2024-2024/first-class-matches-4\n",
      "https://www.espncricinfo.com/records/year/team-match-results/2024-2024/list-a-matches-5\n",
      "https://www.espncricinfo.com/records/year/team-match-results/2024-2024/twenty20-matches-6\n",
      "https://www.espncricinfo.com/records/year/team-match-results/2024-2024/women-s-test-matches-8\n",
      "https://www.espncricinfo.com/records/year/team-match-results/2024-2024/women-s-one-day-internationals-9\n",
      "https://www.espncricinfo.com/records/year/team-match-results/2024-2024/women-s-twenty20-internationals-10\n"
     ]
    }
   ],
   "source": [
    "links = []\n",
    "for i in linkList:\n",
    "    # print(i)\n",
    "    html_doc = getHtml(i)\n",
    "    anchors = html_doc.find_all('a')\n",
    "    for j in anchors:\n",
    "        relLink = j.get(\"href\")\n",
    "        # print(relLink)\n",
    "        if (relLink!=None):\n",
    "            if (relLink[0] == \"/\"):\n",
    "                if (len(relLink.split('/')) >= 4):\n",
    "                    if (relLink.split('/')[3] == \"team-match-results\"):\n",
    "                        link = url+relLink\n",
    "                        print(link)\n",
    "                        links.append(link)\n",
    "    break"
   ]
  },
  {
   "cell_type": "code",
   "execution_count": 52,
   "id": "51315e60-f4bc-455e-bf80-3c0f8b1970a1",
   "metadata": {},
   "outputs": [
    {
     "name": "stdout",
     "output_type": "stream",
     "text": [
      "Team 1\tTeam 2\tWinner\tMargin\tGround\tMatch Date\tScorecard\tWest Indies\tSouth Africa\tSouth Africa\t40 runs\tProvidence\tAug 15-17, 2024\tTest # 2543\tWest Indies\tSouth Africa\tdrawn\t-\tPort of Spain\tAug 7-11, 2024\tTest # 2542\tEngland\tWest Indies\tEngland\t10 wickets\tBirmingham\tJul 26-28, 2024\tTest # 2541\tIreland\tZimbabwe\tIreland\t4 wickets\tBelfast\tJul 25-28, 2024\tTest # 2540\tEngland\tWest Indies\tEngland\t241 runs\tNottingham\tJul 18-21, 2024\tTest # 2539\tEngland\tWest Indies\tEngland\tinns & 114 runs\tLord's\tJul 10-12, 2024\tTest # 2538\tBangladesh\tSri Lanka\tSri Lanka\t192 runs\tChattogram\tMar 30-Apr 3, 2024\tTest # 2537\tBangladesh\tSri Lanka\tSri Lanka\t328 runs\tSylhet\tMar 22-25, 2024\tTest # 2536\tNew Zealand\tAustralia\tAustralia\t3 wickets\tChristchurch\tMar 8-11, 2024\tTest # 2535\tIndia\tEngland\tIndia\tinns & 64 runs\tDharamsala\tMar 7-9, 2024\tTest # 2534\tNew Zealand\tAustralia\tAustralia\t172 runs\tWellington\tFeb 29-Mar 3, 2024\tTest # 2533\tAfghanistan\tIreland\tIreland\t6 wickets\tTolerance Oval\tFeb 28-Mar 1, 2024\tTest # 2532\tIndia\tEngland\tIndia\t5 wickets\tRanchi\tFeb 23-26, 2024\tTest # 2531\tIndia\tEngland\tIndia\t434 runs\tRajkot\tFeb 15-18, 2024\tTest # 2530\tNew Zealand\tSouth Africa\tNew Zealand\t7 wickets\tHamilton\tFeb 13-16, 2024\tTest # 2529\tNew Zealand\tSouth Africa\tNew Zealand\t281 runs\tMount Maunganui\tFeb 4-7, 2024\tTest # 2528\tSri Lanka\tAfghanistan\tSri Lanka\t10 wickets\tColombo (SSC)\tFeb 2-5, 2024\tTest # 2527\tIndia\tEngland\tIndia\t106 runs\tVisakhapatnam\tFeb 2-5, 2024\tTest # 2526\tAustralia\tWest Indies\tWest Indies\t8 runs\tBrisbane\tJan 25-28, 2024\tTest # 2524\tIndia\tEngland\tEngland\t28 runs\tHyderabad\tJan 25-28, 2024\tTest # 2525\tAustralia\tWest Indies\tAustralia\t10 wickets\tAdelaide\tJan 17-19, 2024\tTest # 2523\tSouth Africa\tIndia\tIndia\t7 wickets\tCape Town\tJan 3-4, 2024\tTest # 2522\tAustralia\tPakistan\tAustralia\t8 wickets\tSydney\tJan 3-6, 2024\tTest # 2521\t"
     ]
    }
   ],
   "source": [
    "linkList = []\n",
    "for i in links:\n",
    "    html_doc = getHtml(i)\n",
    "    tableRows = html_doc.find_all('tr')\n",
    "    for row in tableRows:\n",
    "        datas = row.find_all('td')\n",
    "        for data in datas:\n",
    "            print(data.get_text(),end=\"\\t\")\n",
    "    break"
   ]
  },
  {
   "cell_type": "code",
   "execution_count": null,
   "id": "ee7e9d43-760a-44d1-8efb-09dd4c0a1a90",
   "metadata": {},
   "outputs": [],
   "source": []
  }
 ],
 "metadata": {
  "kernelspec": {
   "display_name": "Python 3 (ipykernel)",
   "language": "python",
   "name": "python3"
  },
  "language_info": {
   "codemirror_mode": {
    "name": "ipython",
    "version": 3
   },
   "file_extension": ".py",
   "mimetype": "text/x-python",
   "name": "python",
   "nbconvert_exporter": "python",
   "pygments_lexer": "ipython3",
   "version": "3.12.4"
  }
 },
 "nbformat": 4,
 "nbformat_minor": 5
}
