{
 "cells": [
  {
   "cell_type": "code",
   "execution_count": null,
   "id": "97d8b8a4-47b7-41c7-bfc0-e8853037a28e",
   "metadata": {},
   "outputs": [],
   "source": [
    "pip install tensorflow"
   ]
  },
  {
   "cell_type": "code",
   "execution_count": 1,
   "id": "9bcc5b52-b187-41b3-8615-c7a9d7550cf2",
   "metadata": {},
   "outputs": [],
   "source": [
    "import numpy as np\n",
    "import pandas as pd"
   ]
  },
  {
   "cell_type": "code",
   "execution_count": 2,
   "id": "54e9648f-80e2-4b5b-9d98-926371b63128",
   "metadata": {},
   "outputs": [],
   "source": [
    "dict1 = {\n",
    "    \"name\" : [\"harry\",\"rohan\",\"skiilf\"],\n",
    "    \"marks\" : [10,20,30],\n",
    "    \"city\": [\"chandigarh\",\"mohali\",\"panchkula\"]\n",
    "}"
   ]
  },
  {
   "cell_type": "code",
   "execution_count": 3,
   "id": "62797ebb-c2f1-4ed8-9231-96bb75e2b80e",
   "metadata": {},
   "outputs": [],
   "source": [
    "df = pd.DataFrame(dict1)"
   ]
  },
  {
   "cell_type": "code",
   "execution_count": 4,
   "id": "7ca5ecc7-5796-49e7-9193-87f92e4869fc",
   "metadata": {},
   "outputs": [
    {
     "data": {
      "text/html": [
       "<div>\n",
       "<style scoped>\n",
       "    .dataframe tbody tr th:only-of-type {\n",
       "        vertical-align: middle;\n",
       "    }\n",
       "\n",
       "    .dataframe tbody tr th {\n",
       "        vertical-align: top;\n",
       "    }\n",
       "\n",
       "    .dataframe thead th {\n",
       "        text-align: right;\n",
       "    }\n",
       "</style>\n",
       "<table border=\"1\" class=\"dataframe\">\n",
       "  <thead>\n",
       "    <tr style=\"text-align: right;\">\n",
       "      <th></th>\n",
       "      <th>name</th>\n",
       "      <th>marks</th>\n",
       "      <th>city</th>\n",
       "    </tr>\n",
       "  </thead>\n",
       "  <tbody>\n",
       "    <tr>\n",
       "      <th>0</th>\n",
       "      <td>harry</td>\n",
       "      <td>10</td>\n",
       "      <td>chandigarh</td>\n",
       "    </tr>\n",
       "    <tr>\n",
       "      <th>1</th>\n",
       "      <td>rohan</td>\n",
       "      <td>20</td>\n",
       "      <td>mohali</td>\n",
       "    </tr>\n",
       "    <tr>\n",
       "      <th>2</th>\n",
       "      <td>skiilf</td>\n",
       "      <td>30</td>\n",
       "      <td>panchkula</td>\n",
       "    </tr>\n",
       "  </tbody>\n",
       "</table>\n",
       "</div>"
      ],
      "text/plain": [
       "     name  marks        city\n",
       "0   harry     10  chandigarh\n",
       "1   rohan     20      mohali\n",
       "2  skiilf     30   panchkula"
      ]
     },
     "execution_count": 4,
     "metadata": {},
     "output_type": "execute_result"
    }
   ],
   "source": [
    "df"
   ]
  },
  {
   "cell_type": "code",
   "execution_count": 5,
   "id": "f4f01ae0-4eb2-487d-a41c-67b9c63d3362",
   "metadata": {},
   "outputs": [],
   "source": [
    "df.to_csv(\"demo.csv\")"
   ]
  },
  {
   "cell_type": "code",
   "execution_count": 6,
   "id": "aad1566a-85d2-4530-afd2-9d610f2956d3",
   "metadata": {},
   "outputs": [],
   "source": [
    "df.to_csv(\"demo_indexFalse.csv\",index=\"False\")"
   ]
  },
  {
   "cell_type": "code",
   "execution_count": 7,
   "id": "c2639acb-4f6c-4b77-a408-e0167c934dc8",
   "metadata": {},
   "outputs": [
    {
     "data": {
      "text/html": [
       "<div>\n",
       "<style scoped>\n",
       "    .dataframe tbody tr th:only-of-type {\n",
       "        vertical-align: middle;\n",
       "    }\n",
       "\n",
       "    .dataframe tbody tr th {\n",
       "        vertical-align: top;\n",
       "    }\n",
       "\n",
       "    .dataframe thead th {\n",
       "        text-align: right;\n",
       "    }\n",
       "</style>\n",
       "<table border=\"1\" class=\"dataframe\">\n",
       "  <thead>\n",
       "    <tr style=\"text-align: right;\">\n",
       "      <th></th>\n",
       "      <th>name</th>\n",
       "      <th>marks</th>\n",
       "      <th>city</th>\n",
       "    </tr>\n",
       "  </thead>\n",
       "  <tbody>\n",
       "    <tr>\n",
       "      <th>0</th>\n",
       "      <td>harry</td>\n",
       "      <td>10</td>\n",
       "      <td>chandigarh</td>\n",
       "    </tr>\n",
       "  </tbody>\n",
       "</table>\n",
       "</div>"
      ],
      "text/plain": [
       "    name  marks        city\n",
       "0  harry     10  chandigarh"
      ]
     },
     "execution_count": 7,
     "metadata": {},
     "output_type": "execute_result"
    }
   ],
   "source": [
    "df.head(1)"
   ]
  },
  {
   "cell_type": "code",
   "execution_count": 8,
   "id": "4479dc7d-10d6-4891-8a23-0e0c621c60b6",
   "metadata": {},
   "outputs": [
    {
     "data": {
      "text/html": [
       "<div>\n",
       "<style scoped>\n",
       "    .dataframe tbody tr th:only-of-type {\n",
       "        vertical-align: middle;\n",
       "    }\n",
       "\n",
       "    .dataframe tbody tr th {\n",
       "        vertical-align: top;\n",
       "    }\n",
       "\n",
       "    .dataframe thead th {\n",
       "        text-align: right;\n",
       "    }\n",
       "</style>\n",
       "<table border=\"1\" class=\"dataframe\">\n",
       "  <thead>\n",
       "    <tr style=\"text-align: right;\">\n",
       "      <th></th>\n",
       "      <th>name</th>\n",
       "      <th>marks</th>\n",
       "      <th>city</th>\n",
       "    </tr>\n",
       "  </thead>\n",
       "  <tbody>\n",
       "    <tr>\n",
       "      <th>2</th>\n",
       "      <td>skiilf</td>\n",
       "      <td>30</td>\n",
       "      <td>panchkula</td>\n",
       "    </tr>\n",
       "  </tbody>\n",
       "</table>\n",
       "</div>"
      ],
      "text/plain": [
       "     name  marks       city\n",
       "2  skiilf     30  panchkula"
      ]
     },
     "execution_count": 8,
     "metadata": {},
     "output_type": "execute_result"
    }
   ],
   "source": [
    "df.tail(1)"
   ]
  },
  {
   "cell_type": "code",
   "execution_count": 9,
   "id": "1cf32107-6aa2-4d04-bd72-054baab40620",
   "metadata": {},
   "outputs": [
    {
     "data": {
      "text/html": [
       "<div>\n",
       "<style scoped>\n",
       "    .dataframe tbody tr th:only-of-type {\n",
       "        vertical-align: middle;\n",
       "    }\n",
       "\n",
       "    .dataframe tbody tr th {\n",
       "        vertical-align: top;\n",
       "    }\n",
       "\n",
       "    .dataframe thead th {\n",
       "        text-align: right;\n",
       "    }\n",
       "</style>\n",
       "<table border=\"1\" class=\"dataframe\">\n",
       "  <thead>\n",
       "    <tr style=\"text-align: right;\">\n",
       "      <th></th>\n",
       "      <th>marks</th>\n",
       "    </tr>\n",
       "  </thead>\n",
       "  <tbody>\n",
       "    <tr>\n",
       "      <th>count</th>\n",
       "      <td>3.0</td>\n",
       "    </tr>\n",
       "    <tr>\n",
       "      <th>mean</th>\n",
       "      <td>20.0</td>\n",
       "    </tr>\n",
       "    <tr>\n",
       "      <th>std</th>\n",
       "      <td>10.0</td>\n",
       "    </tr>\n",
       "    <tr>\n",
       "      <th>min</th>\n",
       "      <td>10.0</td>\n",
       "    </tr>\n",
       "    <tr>\n",
       "      <th>25%</th>\n",
       "      <td>15.0</td>\n",
       "    </tr>\n",
       "    <tr>\n",
       "      <th>50%</th>\n",
       "      <td>20.0</td>\n",
       "    </tr>\n",
       "    <tr>\n",
       "      <th>75%</th>\n",
       "      <td>25.0</td>\n",
       "    </tr>\n",
       "    <tr>\n",
       "      <th>max</th>\n",
       "      <td>30.0</td>\n",
       "    </tr>\n",
       "  </tbody>\n",
       "</table>\n",
       "</div>"
      ],
      "text/plain": [
       "       marks\n",
       "count    3.0\n",
       "mean    20.0\n",
       "std     10.0\n",
       "min     10.0\n",
       "25%     15.0\n",
       "50%     20.0\n",
       "75%     25.0\n",
       "max     30.0"
      ]
     },
     "execution_count": 9,
     "metadata": {},
     "output_type": "execute_result"
    }
   ],
   "source": [
    "df.describe()"
   ]
  },
  {
   "cell_type": "code",
   "execution_count": 10,
   "id": "52083c49-ab59-4230-8836-b9b85f569bc4",
   "metadata": {},
   "outputs": [
    {
     "name": "stderr",
     "output_type": "stream",
     "text": [
      "C:\\Users\\Akhil Semwal\\AppData\\Local\\Temp\\ipykernel_11540\\2116100437.py:1: FutureWarning: ChainedAssignmentError: behaviour will change in pandas 3.0!\n",
      "You are setting values through chained assignment. Currently this works in certain cases, but when using Copy-on-Write (which will become the default behaviour in pandas 3.0) this will never work to update the original DataFrame or Series, because the intermediate object on which we are setting values will behave as a copy.\n",
      "A typical example is when you are setting values in a column of a DataFrame, like:\n",
      "\n",
      "df[\"col\"][row_indexer] = value\n",
      "\n",
      "Use `df.loc[row_indexer, \"col\"] = values` instead, to perform the assignment in a single step and ensure this keeps updating the original `df`.\n",
      "\n",
      "See the caveats in the documentation: https://pandas.pydata.org/pandas-docs/stable/user_guide/indexing.html#returning-a-view-versus-a-copy\n",
      "\n",
      "  df[\"name\"][0] = \"ak\"\n",
      "C:\\Users\\Akhil Semwal\\AppData\\Local\\Temp\\ipykernel_11540\\2116100437.py:1: SettingWithCopyWarning: \n",
      "A value is trying to be set on a copy of a slice from a DataFrame\n",
      "\n",
      "See the caveats in the documentation: https://pandas.pydata.org/pandas-docs/stable/user_guide/indexing.html#returning-a-view-versus-a-copy\n",
      "  df[\"name\"][0] = \"ak\"\n"
     ]
    }
   ],
   "source": [
    "df[\"name\"][0] = \"ak\""
   ]
  },
  {
   "cell_type": "code",
   "execution_count": 11,
   "id": "813fede0-a18b-4ebd-a076-88043c37e26d",
   "metadata": {},
   "outputs": [],
   "source": [
    "df.to_csv(\"demo.csv\")"
   ]
  },
  {
   "cell_type": "code",
   "execution_count": 12,
   "id": "584e2018-dfa6-4e8a-a4a2-983909a1d242",
   "metadata": {},
   "outputs": [],
   "source": [
    "df.index = [\"First\",\"Second\",\"Third\"]"
   ]
  },
  {
   "cell_type": "code",
   "execution_count": 13,
   "id": "2c2ddc2f-431c-4088-8e68-16b7fc44be3a",
   "metadata": {},
   "outputs": [
    {
     "data": {
      "text/html": [
       "<div>\n",
       "<style scoped>\n",
       "    .dataframe tbody tr th:only-of-type {\n",
       "        vertical-align: middle;\n",
       "    }\n",
       "\n",
       "    .dataframe tbody tr th {\n",
       "        vertical-align: top;\n",
       "    }\n",
       "\n",
       "    .dataframe thead th {\n",
       "        text-align: right;\n",
       "    }\n",
       "</style>\n",
       "<table border=\"1\" class=\"dataframe\">\n",
       "  <thead>\n",
       "    <tr style=\"text-align: right;\">\n",
       "      <th></th>\n",
       "      <th>name</th>\n",
       "      <th>marks</th>\n",
       "      <th>city</th>\n",
       "    </tr>\n",
       "  </thead>\n",
       "  <tbody>\n",
       "    <tr>\n",
       "      <th>First</th>\n",
       "      <td>ak</td>\n",
       "      <td>10</td>\n",
       "      <td>chandigarh</td>\n",
       "    </tr>\n",
       "    <tr>\n",
       "      <th>Second</th>\n",
       "      <td>rohan</td>\n",
       "      <td>20</td>\n",
       "      <td>mohali</td>\n",
       "    </tr>\n",
       "    <tr>\n",
       "      <th>Third</th>\n",
       "      <td>skiilf</td>\n",
       "      <td>30</td>\n",
       "      <td>panchkula</td>\n",
       "    </tr>\n",
       "  </tbody>\n",
       "</table>\n",
       "</div>"
      ],
      "text/plain": [
       "          name  marks        city\n",
       "First       ak     10  chandigarh\n",
       "Second   rohan     20      mohali\n",
       "Third   skiilf     30   panchkula"
      ]
     },
     "execution_count": 13,
     "metadata": {},
     "output_type": "execute_result"
    }
   ],
   "source": [
    "df"
   ]
  },
  {
   "cell_type": "code",
   "execution_count": 18,
   "id": "d8c04212-250b-4e00-b995-11583af8e5b1",
   "metadata": {},
   "outputs": [
    {
     "data": {
      "text/plain": [
       "0    0.963007\n",
       "1    0.965339\n",
       "2    0.645873\n",
       "3    0.587623\n",
       "4    0.602499\n",
       "5    0.563698\n",
       "6    0.871415\n",
       "7    0.290441\n",
       "8    0.116053\n",
       "9    0.976095\n",
       "dtype: float64"
      ]
     },
     "execution_count": 18,
     "metadata": {},
     "output_type": "execute_result"
    }
   ],
   "source": [
    "ser = pd.Series(np.random.rand(10))\n",
    "ser"
   ]
  },
  {
   "cell_type": "code",
   "execution_count": 19,
   "id": "4debfafc-6728-4337-8c58-1b871bd7b1fc",
   "metadata": {},
   "outputs": [
    {
     "data": {
      "text/plain": [
       "pandas.core.series.Series"
      ]
     },
     "execution_count": 19,
     "metadata": {},
     "output_type": "execute_result"
    }
   ],
   "source": [
    "type(ser)"
   ]
  },
  {
   "cell_type": "code",
   "execution_count": 20,
   "id": "7dcc8ed6-f66a-4561-84ba-acb6581d611d",
   "metadata": {},
   "outputs": [],
   "source": [
    "newdf = pd.DataFrame(np.random.rand(334,5), index=np.arange(334))"
   ]
  },
  {
   "cell_type": "code",
   "execution_count": 21,
   "id": "056b0458-72d1-40e5-8c1c-8e68095f5b1c",
   "metadata": {},
   "outputs": [
    {
     "data": {
      "text/html": [
       "<div>\n",
       "<style scoped>\n",
       "    .dataframe tbody tr th:only-of-type {\n",
       "        vertical-align: middle;\n",
       "    }\n",
       "\n",
       "    .dataframe tbody tr th {\n",
       "        vertical-align: top;\n",
       "    }\n",
       "\n",
       "    .dataframe thead th {\n",
       "        text-align: right;\n",
       "    }\n",
       "</style>\n",
       "<table border=\"1\" class=\"dataframe\">\n",
       "  <thead>\n",
       "    <tr style=\"text-align: right;\">\n",
       "      <th></th>\n",
       "      <th>0</th>\n",
       "      <th>1</th>\n",
       "      <th>2</th>\n",
       "      <th>3</th>\n",
       "      <th>4</th>\n",
       "    </tr>\n",
       "  </thead>\n",
       "  <tbody>\n",
       "    <tr>\n",
       "      <th>0</th>\n",
       "      <td>0.083314</td>\n",
       "      <td>0.598852</td>\n",
       "      <td>0.800274</td>\n",
       "      <td>0.668023</td>\n",
       "      <td>0.724487</td>\n",
       "    </tr>\n",
       "    <tr>\n",
       "      <th>1</th>\n",
       "      <td>0.063307</td>\n",
       "      <td>0.424135</td>\n",
       "      <td>0.686217</td>\n",
       "      <td>0.119010</td>\n",
       "      <td>0.229442</td>\n",
       "    </tr>\n",
       "    <tr>\n",
       "      <th>2</th>\n",
       "      <td>0.352935</td>\n",
       "      <td>0.348773</td>\n",
       "      <td>0.797117</td>\n",
       "      <td>0.422154</td>\n",
       "      <td>0.683273</td>\n",
       "    </tr>\n",
       "    <tr>\n",
       "      <th>3</th>\n",
       "      <td>0.832451</td>\n",
       "      <td>0.072771</td>\n",
       "      <td>0.925110</td>\n",
       "      <td>0.220157</td>\n",
       "      <td>0.251020</td>\n",
       "    </tr>\n",
       "    <tr>\n",
       "      <th>4</th>\n",
       "      <td>0.284702</td>\n",
       "      <td>0.999534</td>\n",
       "      <td>0.067535</td>\n",
       "      <td>0.995277</td>\n",
       "      <td>0.931784</td>\n",
       "    </tr>\n",
       "    <tr>\n",
       "      <th>...</th>\n",
       "      <td>...</td>\n",
       "      <td>...</td>\n",
       "      <td>...</td>\n",
       "      <td>...</td>\n",
       "      <td>...</td>\n",
       "    </tr>\n",
       "    <tr>\n",
       "      <th>329</th>\n",
       "      <td>0.214286</td>\n",
       "      <td>0.858021</td>\n",
       "      <td>0.204525</td>\n",
       "      <td>0.720654</td>\n",
       "      <td>0.474984</td>\n",
       "    </tr>\n",
       "    <tr>\n",
       "      <th>330</th>\n",
       "      <td>0.676299</td>\n",
       "      <td>0.475858</td>\n",
       "      <td>0.367834</td>\n",
       "      <td>0.375334</td>\n",
       "      <td>0.481006</td>\n",
       "    </tr>\n",
       "    <tr>\n",
       "      <th>331</th>\n",
       "      <td>0.944545</td>\n",
       "      <td>0.048163</td>\n",
       "      <td>0.782455</td>\n",
       "      <td>0.603063</td>\n",
       "      <td>0.439551</td>\n",
       "    </tr>\n",
       "    <tr>\n",
       "      <th>332</th>\n",
       "      <td>0.407472</td>\n",
       "      <td>0.801025</td>\n",
       "      <td>0.984330</td>\n",
       "      <td>0.430883</td>\n",
       "      <td>0.419618</td>\n",
       "    </tr>\n",
       "    <tr>\n",
       "      <th>333</th>\n",
       "      <td>0.770725</td>\n",
       "      <td>0.167477</td>\n",
       "      <td>0.534903</td>\n",
       "      <td>0.092460</td>\n",
       "      <td>0.219865</td>\n",
       "    </tr>\n",
       "  </tbody>\n",
       "</table>\n",
       "<p>334 rows × 5 columns</p>\n",
       "</div>"
      ],
      "text/plain": [
       "            0         1         2         3         4\n",
       "0    0.083314  0.598852  0.800274  0.668023  0.724487\n",
       "1    0.063307  0.424135  0.686217  0.119010  0.229442\n",
       "2    0.352935  0.348773  0.797117  0.422154  0.683273\n",
       "3    0.832451  0.072771  0.925110  0.220157  0.251020\n",
       "4    0.284702  0.999534  0.067535  0.995277  0.931784\n",
       "..        ...       ...       ...       ...       ...\n",
       "329  0.214286  0.858021  0.204525  0.720654  0.474984\n",
       "330  0.676299  0.475858  0.367834  0.375334  0.481006\n",
       "331  0.944545  0.048163  0.782455  0.603063  0.439551\n",
       "332  0.407472  0.801025  0.984330  0.430883  0.419618\n",
       "333  0.770725  0.167477  0.534903  0.092460  0.219865\n",
       "\n",
       "[334 rows x 5 columns]"
      ]
     },
     "execution_count": 21,
     "metadata": {},
     "output_type": "execute_result"
    }
   ],
   "source": [
    "newdf"
   ]
  },
  {
   "cell_type": "code",
   "execution_count": 22,
   "id": "13085d78-80bf-4724-960f-e082874918ce",
   "metadata": {},
   "outputs": [
    {
     "data": {
      "text/plain": [
       "array([[0.08331414, 0.59885215, 0.80027412, 0.66802278, 0.72448744],\n",
       "       [0.0633072 , 0.42413465, 0.68621731, 0.11901042, 0.22944223],\n",
       "       [0.35293536, 0.34877348, 0.7971168 , 0.42215422, 0.68327312],\n",
       "       ...,\n",
       "       [0.94454522, 0.04816261, 0.78245463, 0.60306338, 0.43955135],\n",
       "       [0.40747249, 0.80102511, 0.98433   , 0.43088281, 0.41961771],\n",
       "       [0.77072474, 0.16747724, 0.53490325, 0.09245963, 0.21986481]])"
      ]
     },
     "execution_count": 22,
     "metadata": {},
     "output_type": "execute_result"
    }
   ],
   "source": [
    "newdf.to_numpy()"
   ]
  },
  {
   "cell_type": "code",
   "execution_count": 23,
   "id": "c15f7cc5-3813-44f5-b872-1eba7b3dc02d",
   "metadata": {},
   "outputs": [
    {
     "data": {
      "text/html": [
       "<div>\n",
       "<style scoped>\n",
       "    .dataframe tbody tr th:only-of-type {\n",
       "        vertical-align: middle;\n",
       "    }\n",
       "\n",
       "    .dataframe tbody tr th {\n",
       "        vertical-align: top;\n",
       "    }\n",
       "\n",
       "    .dataframe thead th {\n",
       "        text-align: right;\n",
       "    }\n",
       "</style>\n",
       "<table border=\"1\" class=\"dataframe\">\n",
       "  <thead>\n",
       "    <tr style=\"text-align: right;\">\n",
       "      <th></th>\n",
       "      <th>0</th>\n",
       "      <th>1</th>\n",
       "      <th>2</th>\n",
       "      <th>3</th>\n",
       "      <th>4</th>\n",
       "      <th>5</th>\n",
       "      <th>6</th>\n",
       "      <th>7</th>\n",
       "      <th>8</th>\n",
       "      <th>9</th>\n",
       "      <th>...</th>\n",
       "      <th>324</th>\n",
       "      <th>325</th>\n",
       "      <th>326</th>\n",
       "      <th>327</th>\n",
       "      <th>328</th>\n",
       "      <th>329</th>\n",
       "      <th>330</th>\n",
       "      <th>331</th>\n",
       "      <th>332</th>\n",
       "      <th>333</th>\n",
       "    </tr>\n",
       "  </thead>\n",
       "  <tbody>\n",
       "    <tr>\n",
       "      <th>0</th>\n",
       "      <td>0.083314</td>\n",
       "      <td>0.063307</td>\n",
       "      <td>0.352935</td>\n",
       "      <td>0.832451</td>\n",
       "      <td>0.284702</td>\n",
       "      <td>0.663614</td>\n",
       "      <td>0.657419</td>\n",
       "      <td>0.351212</td>\n",
       "      <td>0.208149</td>\n",
       "      <td>0.087245</td>\n",
       "      <td>...</td>\n",
       "      <td>0.069488</td>\n",
       "      <td>0.320920</td>\n",
       "      <td>0.128292</td>\n",
       "      <td>0.494071</td>\n",
       "      <td>0.710097</td>\n",
       "      <td>0.214286</td>\n",
       "      <td>0.676299</td>\n",
       "      <td>0.944545</td>\n",
       "      <td>0.407472</td>\n",
       "      <td>0.770725</td>\n",
       "    </tr>\n",
       "    <tr>\n",
       "      <th>1</th>\n",
       "      <td>0.598852</td>\n",
       "      <td>0.424135</td>\n",
       "      <td>0.348773</td>\n",
       "      <td>0.072771</td>\n",
       "      <td>0.999534</td>\n",
       "      <td>0.487632</td>\n",
       "      <td>0.187843</td>\n",
       "      <td>0.651549</td>\n",
       "      <td>0.844212</td>\n",
       "      <td>0.756022</td>\n",
       "      <td>...</td>\n",
       "      <td>0.817815</td>\n",
       "      <td>0.079281</td>\n",
       "      <td>0.701772</td>\n",
       "      <td>0.575256</td>\n",
       "      <td>0.251171</td>\n",
       "      <td>0.858021</td>\n",
       "      <td>0.475858</td>\n",
       "      <td>0.048163</td>\n",
       "      <td>0.801025</td>\n",
       "      <td>0.167477</td>\n",
       "    </tr>\n",
       "    <tr>\n",
       "      <th>2</th>\n",
       "      <td>0.800274</td>\n",
       "      <td>0.686217</td>\n",
       "      <td>0.797117</td>\n",
       "      <td>0.925110</td>\n",
       "      <td>0.067535</td>\n",
       "      <td>0.529407</td>\n",
       "      <td>0.062640</td>\n",
       "      <td>0.478557</td>\n",
       "      <td>0.899102</td>\n",
       "      <td>0.333214</td>\n",
       "      <td>...</td>\n",
       "      <td>0.196998</td>\n",
       "      <td>0.163999</td>\n",
       "      <td>0.345209</td>\n",
       "      <td>0.716028</td>\n",
       "      <td>0.372124</td>\n",
       "      <td>0.204525</td>\n",
       "      <td>0.367834</td>\n",
       "      <td>0.782455</td>\n",
       "      <td>0.984330</td>\n",
       "      <td>0.534903</td>\n",
       "    </tr>\n",
       "    <tr>\n",
       "      <th>3</th>\n",
       "      <td>0.668023</td>\n",
       "      <td>0.119010</td>\n",
       "      <td>0.422154</td>\n",
       "      <td>0.220157</td>\n",
       "      <td>0.995277</td>\n",
       "      <td>0.702679</td>\n",
       "      <td>0.432711</td>\n",
       "      <td>0.850062</td>\n",
       "      <td>0.930557</td>\n",
       "      <td>0.838613</td>\n",
       "      <td>...</td>\n",
       "      <td>0.159405</td>\n",
       "      <td>0.486650</td>\n",
       "      <td>0.371704</td>\n",
       "      <td>0.106767</td>\n",
       "      <td>0.936674</td>\n",
       "      <td>0.720654</td>\n",
       "      <td>0.375334</td>\n",
       "      <td>0.603063</td>\n",
       "      <td>0.430883</td>\n",
       "      <td>0.092460</td>\n",
       "    </tr>\n",
       "    <tr>\n",
       "      <th>4</th>\n",
       "      <td>0.724487</td>\n",
       "      <td>0.229442</td>\n",
       "      <td>0.683273</td>\n",
       "      <td>0.251020</td>\n",
       "      <td>0.931784</td>\n",
       "      <td>0.132241</td>\n",
       "      <td>0.019159</td>\n",
       "      <td>0.374739</td>\n",
       "      <td>0.283199</td>\n",
       "      <td>0.653106</td>\n",
       "      <td>...</td>\n",
       "      <td>0.289681</td>\n",
       "      <td>0.742656</td>\n",
       "      <td>0.694462</td>\n",
       "      <td>0.906234</td>\n",
       "      <td>0.332867</td>\n",
       "      <td>0.474984</td>\n",
       "      <td>0.481006</td>\n",
       "      <td>0.439551</td>\n",
       "      <td>0.419618</td>\n",
       "      <td>0.219865</td>\n",
       "    </tr>\n",
       "  </tbody>\n",
       "</table>\n",
       "<p>5 rows × 334 columns</p>\n",
       "</div>"
      ],
      "text/plain": [
       "        0         1         2         3         4         5         6    \\\n",
       "0  0.083314  0.063307  0.352935  0.832451  0.284702  0.663614  0.657419   \n",
       "1  0.598852  0.424135  0.348773  0.072771  0.999534  0.487632  0.187843   \n",
       "2  0.800274  0.686217  0.797117  0.925110  0.067535  0.529407  0.062640   \n",
       "3  0.668023  0.119010  0.422154  0.220157  0.995277  0.702679  0.432711   \n",
       "4  0.724487  0.229442  0.683273  0.251020  0.931784  0.132241  0.019159   \n",
       "\n",
       "        7         8         9    ...       324       325       326       327  \\\n",
       "0  0.351212  0.208149  0.087245  ...  0.069488  0.320920  0.128292  0.494071   \n",
       "1  0.651549  0.844212  0.756022  ...  0.817815  0.079281  0.701772  0.575256   \n",
       "2  0.478557  0.899102  0.333214  ...  0.196998  0.163999  0.345209  0.716028   \n",
       "3  0.850062  0.930557  0.838613  ...  0.159405  0.486650  0.371704  0.106767   \n",
       "4  0.374739  0.283199  0.653106  ...  0.289681  0.742656  0.694462  0.906234   \n",
       "\n",
       "        328       329       330       331       332       333  \n",
       "0  0.710097  0.214286  0.676299  0.944545  0.407472  0.770725  \n",
       "1  0.251171  0.858021  0.475858  0.048163  0.801025  0.167477  \n",
       "2  0.372124  0.204525  0.367834  0.782455  0.984330  0.534903  \n",
       "3  0.936674  0.720654  0.375334  0.603063  0.430883  0.092460  \n",
       "4  0.332867  0.474984  0.481006  0.439551  0.419618  0.219865  \n",
       "\n",
       "[5 rows x 334 columns]"
      ]
     },
     "execution_count": 23,
     "metadata": {},
     "output_type": "execute_result"
    }
   ],
   "source": [
    "newdf.T"
   ]
  },
  {
   "cell_type": "code",
   "execution_count": 24,
   "id": "a286b0ba-daac-435a-bfa2-ce6f57a0df0f",
   "metadata": {},
   "outputs": [
    {
     "data": {
      "text/plain": [
       "0      0.083314\n",
       "1      0.063307\n",
       "2      0.352935\n",
       "3      0.832451\n",
       "4      0.284702\n",
       "         ...   \n",
       "329    0.214286\n",
       "330    0.676299\n",
       "331    0.944545\n",
       "332    0.407472\n",
       "333    0.770725\n",
       "Name: 0, Length: 334, dtype: float64"
      ]
     },
     "execution_count": 24,
     "metadata": {},
     "output_type": "execute_result"
    }
   ],
   "source": [
    "newdf[0]"
   ]
  },
  {
   "cell_type": "code",
   "execution_count": null,
   "id": "b4c52171-0265-4c2f-8cc8-b7cebea0e206",
   "metadata": {},
   "outputs": [],
   "source": []
  }
 ],
 "metadata": {
  "kernelspec": {
   "display_name": "Python 3 (ipykernel)",
   "language": "python",
   "name": "python3"
  },
  "language_info": {
   "codemirror_mode": {
    "name": "ipython",
    "version": 3
   },
   "file_extension": ".py",
   "mimetype": "text/x-python",
   "name": "python",
   "nbconvert_exporter": "python",
   "pygments_lexer": "ipython3",
   "version": "3.12.4"
  }
 },
 "nbformat": 4,
 "nbformat_minor": 5
}
